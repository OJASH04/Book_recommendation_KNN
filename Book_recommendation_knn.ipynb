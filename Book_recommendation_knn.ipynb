{
 "cells": [
  {
   "cell_type": "code",
   "execution_count": 1,
   "metadata": {
    "id": "Y1onB6kUvo4Z"
   },
   "outputs": [],
   "source": [
    "# Import libraries\n",
    "import numpy as np\n",
    "import pandas as pd\n",
    "from sklearn.neighbors import NearestNeighbors"
   ]
  },
  {
   "cell_type": "code",
   "execution_count": 2,
   "metadata": {
    "id": "NClILWOiEd6Q"
   },
   "outputs": [],
   "source": [
    "# import csv data into dataframes\n",
    "df_books = pd.read_csv(\n",
    "    r'E:\\Programming\\Python\\Dataset\\Book_Crossing_Dataset\\BX-Books.csv',\n",
    "    encoding = \"ISO-8859-1\",\n",
    "    sep=\";\",\n",
    "    header=0,\n",
    "    names=['isbn', 'title', 'author'],\n",
    "    usecols=['isbn', 'title', 'author'],\n",
    "    dtype={'isbn': 'str', 'title': 'str', 'author': 'str'})\n",
    "\n",
    "df_ratings = pd.read_csv(\n",
    "    r'E:\\Programming\\Python\\Dataset\\Book_Crossing_Dataset\\BX-Book-Ratings.csv',\n",
    "    encoding = \"ISO-8859-1\",\n",
    "    sep=\";\",\n",
    "    header=0,\n",
    "    names=['user', 'isbn', 'rating'],\n",
    "    usecols=['user', 'isbn', 'rating'],\n",
    "    dtype={'user': 'int32', 'isbn': 'str', 'rating': 'float32'})"
   ]
  },
  {
   "cell_type": "code",
   "execution_count": 3,
   "metadata": {
    "id": "nKDyBsGYyzft"
   },
   "outputs": [],
   "source": [
    "df = df_ratings\n",
    "\n",
    "counts1 = df['user'].value_counts()\n",
    "counts2 = df['isbn'].value_counts()\n",
    "\n",
    "df = df[~df['user'].isin(counts1[counts1 < 200].index)]\n",
    "df = df[~df['isbn'].isin(counts2[counts2 < 100].index)]\n",
    "\n",
    "df = pd.merge(right=df, left = df_books, on=\"isbn\")\n",
    "\n",
    "df = df.drop_duplicates([\"title\", \"user\"])\n",
    "\n",
    "piv = df.pivot(index='title', columns='user', values='rating').fillna(0) "
   ]
  },
  {
   "cell_type": "code",
   "execution_count": 4,
   "metadata": {
    "colab": {
     "base_uri": "https://localhost:8080/"
    },
    "id": "-XibeuxVZKip",
    "outputId": "9d91a6e0-2ec5-4ef4-cf1f-3eb524fa49b5"
   },
   "outputs": [
    {
     "data": {
      "text/plain": [
       "NearestNeighbors(algorithm='brute', metric='cosine')"
      ]
     },
     "execution_count": 4,
     "metadata": {},
     "output_type": "execute_result"
    }
   ],
   "source": [
    "matrix = piv.values\n",
    "\n",
    "knn_model = NearestNeighbors(metric='cosine', algorithm='brute', p=2)\n",
    "knn_model.fit(matrix)"
   ]
  },
  {
   "cell_type": "code",
   "execution_count": 5,
   "metadata": {
    "colab": {
     "base_uri": "https://localhost:8080/"
    },
    "id": "Nvm_oXFRZLN5",
    "outputId": "64539663-0c85-4cc8-89e5-2ef70a744fd1"
   },
   "outputs": [
    {
     "name": "stdout",
     "output_type": "stream",
     "text": [
      "673\n"
     ]
    }
   ],
   "source": [
    "titles = list(piv.index.values)"
   ]
  },
  {
   "cell_type": "code",
   "execution_count": 6,
   "metadata": {
    "id": "QVGFt40XZQFt"
   },
   "outputs": [],
   "source": [
    "# Function to return recommended books along with percentage recommendation\n",
    "def get_recommends(book = \"\"):\n",
    "\n",
    "  distances, indices = knn_model.kneighbors(piv.loc[book].values.reshape(1, -1), len(titles), True)\n",
    "  recommended_books = [book, sum([[[piv.index[indices.flatten()[i]], distances.flatten()[i]]] for i in range(5, 0, -1)], [])]\n",
    "\n",
    "  return recommended_books"
   ]
  },
  {
   "cell_type": "code",
   "execution_count": 7,
   "metadata": {
    "colab": {
     "base_uri": "https://localhost:8080/"
    },
    "id": "R_tWnzJDZQgZ",
    "outputId": "62498d59-f3ae-42e1-b1f1-03f2378eb210"
   },
   "outputs": [
    {
     "data": {
      "text/plain": [
       "[\"Where the Heart Is (Oprah's Book Club (Paperback))\",\n",
       " [[\"I'll Be Seeing You\", 0.8016211],\n",
       "  ['The Weight of Water', 0.77085835],\n",
       "  ['The Surgeon', 0.7699411],\n",
       "  ['I Know This Much Is True', 0.7677075],\n",
       "  ['The Lovely Bones: A Novel', 0.7234864]]]"
      ]
     },
     "execution_count": 7,
     "metadata": {},
     "output_type": "execute_result"
    }
   ],
   "source": [
    "get_recommends(\"Where the Heart Is (Oprah's Book Club (Paperback))\")"
   ]
  }
 ],
 "metadata": {
  "accelerator": "GPU",
  "colab": {
   "collapsed_sections": [],
   "name": "fcc_book_recommendation_knn_Ojash.ipynb",
   "provenance": []
  },
  "kernelspec": {
   "display_name": "Python 3",
   "language": "python",
   "name": "python3"
  },
  "language_info": {
   "codemirror_mode": {
    "name": "ipython",
    "version": 3
   },
   "file_extension": ".py",
   "mimetype": "text/x-python",
   "name": "python",
   "nbconvert_exporter": "python",
   "pygments_lexer": "ipython3",
   "version": "3.6.13"
  }
 },
 "nbformat": 4,
 "nbformat_minor": 1
}
